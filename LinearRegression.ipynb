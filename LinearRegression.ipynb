{
  "nbformat": 4,
  "nbformat_minor": 0,
  "metadata": {
    "colab": {
      "provenance": [],
      "authorship_tag": "ABX9TyOKbFlhe6QT8brR8kuzmpHv",
      "include_colab_link": true
    },
    "kernelspec": {
      "name": "python3",
      "display_name": "Python 3"
    },
    "language_info": {
      "name": "python"
    }
  },
  "cells": [
    {
      "cell_type": "markdown",
      "metadata": {
        "id": "view-in-github",
        "colab_type": "text"
      },
      "source": [
        "<a href=\"https://colab.research.google.com/github/Pilla-Divya-Vidhyasree/ml_alg/blob/main/LinearRegression.ipynb\" target=\"_parent\"><img src=\"https://colab.research.google.com/assets/colab-badge.svg\" alt=\"Open In Colab\"/></a>"
      ]
    },
    {
      "cell_type": "code",
      "execution_count": 47,
      "metadata": {
        "id": "u6fFk7Gj6QYs"
      },
      "outputs": [],
      "source": [
        "import numpy as np\n",
        "import pandas as pd\n",
        "from sklearn.linear_model import LinearRegression"
      ]
    },
    {
      "cell_type": "code",
      "source": [
        "data = pd.read_csv(\"/headbrain.csv\")\n",
        "data\n",
        "data = data[['Head Size(cm^3)',\"Brain Weight(grams)\"]]"
      ],
      "metadata": {
        "id": "UqWb_rLv9ty3"
      },
      "execution_count": 48,
      "outputs": []
    },
    {
      "cell_type": "code",
      "source": [
        "from sklearn.model_selection import train_test_split\n",
        "x_train, x_test, y_train, y_test = train_test_split(data[['Head Size(cm^3)']],data[\"Brain Weight(grams)\"],test_size=0.2)\n",
        "model = LinearRegression()\n",
        "model.fit(x_train, y_train)\n",
        "y_pred = model.predict(x_test)\n",
        "from sklearn.metrics import accuracy_score\n",
        "print(y_pred)"
      ],
      "metadata": {
        "colab": {
          "base_uri": "https://localhost:8080/"
        },
        "outputId": "8aef749a-c132-4af8-b554-4528db3b5ffd",
        "id": "G7qf9VtLC77r"
      },
      "execution_count": 49,
      "outputs": [
        {
          "output_type": "stream",
          "name": "stdout",
          "text": [
            "[1357.52899858 1305.18371928 1223.31033371 1194.58753942 1293.6409141\n",
            " 1285.85623154 1310.55246587 1249.61719202 1326.92714299 1099.29228737\n",
            " 1258.4756239  1288.00373017 1304.10996996 1257.67031191 1077.81730099\n",
            " 1288.54060483 1326.121831   1357.52899858 1266.26030646 1191.09785414\n",
            " 1325.31651901 1268.13936777 1235.12157621 1225.18939501 1348.67056669\n",
            " 1212.30440319 1438.32863483 1238.07438684 1259.28093589 1396.98928605\n",
            " 1250.15406668 1304.91528195 1331.75901492 1201.56691    1515.63858579\n",
            " 1288.2721675  1221.69970973 1503.29046862 1355.11306261 1204.51972062\n",
            " 1223.84720837 1244.78532009 1300.08341001 1294.98310075 1113.25102851\n",
            " 1431.61770158 1221.96814706 1220.62596041]\n"
          ]
        }
      ]
    },
    {
      "cell_type": "code",
      "source": [
        "#simple model which will predict one value"
      ],
      "metadata": {
        "id": "0N_HNr2FDtXE"
      },
      "execution_count": null,
      "outputs": []
    },
    {
      "cell_type": "code",
      "source": [
        "data = pd.read_csv(\"/headbrain.csv\")\n",
        "data\n",
        "data = data[['Head Size(cm^3)',\"Brain Weight(grams)\"]]\n",
        "data = data[:10]\n",
        "print(data)\n",
        "x_train = data[['Head Size(cm^3)']]\n",
        "y_train = data[[\"Brain Weight(grams)\"]]\n",
        "model = LinearRegression()\n",
        "model.fit(x_train, y_train)\n",
        "x=pd.DataFrame({'Head Size(cm^3)':[3333]})\n",
        "y_pred = model.predict(x)\n",
        "print(y_pred)"
      ],
      "metadata": {
        "colab": {
          "base_uri": "https://localhost:8080/"
        },
        "id": "oqlBXX6c9QQu",
        "outputId": "87cd32f6-ac9e-4e44-b4fb-5c0cc6c6c19f"
      },
      "execution_count": 50,
      "outputs": [
        {
          "output_type": "stream",
          "name": "stdout",
          "text": [
            "   Head Size(cm^3)  Brain Weight(grams)\n",
            "0             4512                 1530\n",
            "1             3738                 1297\n",
            "2             4261                 1335\n",
            "3             3777                 1282\n",
            "4             4177                 1590\n",
            "5             3585                 1300\n",
            "6             3785                 1400\n",
            "7             3559                 1255\n",
            "8             3613                 1355\n",
            "9             3982                 1375\n",
            "[[1232.69203433]]\n"
          ]
        }
      ]
    }
  ]
}